{
 "cells": [
  {
   "cell_type": "code",
   "execution_count": 29,
   "metadata": {
    "collapsed": true
   },
   "outputs": [],
   "source": [
    "import numpy as np"
   ]
  },
  {
   "cell_type": "code",
   "execution_count": 30,
   "metadata": {
    "collapsed": true
   },
   "outputs": [],
   "source": [
    "################ \n",
    "###  CONFIG  ###\n",
    "\n",
    "# read input file\n",
    "f = open('input.txt', 'r')\n",
    "\n",
    "# first line: number of states\n",
    "n_states = int(f.readline())\n",
    "\n",
    "# second line: ok states\n",
    "ok_states = list(map(int, f.readline().split()))\n",
    "\n",
    "################ "
   ]
  },
  {
   "cell_type": "code",
   "execution_count": 31,
   "metadata": {
    "collapsed": true
   },
   "outputs": [],
   "source": [
    "# magic?\n",
    "\n",
    "# square transition matrix\n",
    "t_matrix = np.zeros((n_states, n_states))\n",
    "\n",
    "\n",
    "# transition definition function\n",
    "def add_transition(si, sn, p):\n",
    "    t_matrix[si][sn] = p\n",
    "\n",
    "# self-transitions\n",
    "def add_stall():\n",
    "    s = np.sum(t_matrix, axis=1)\n",
    "    for i in range(n_states):\n",
    "        t_matrix[i][i] = 1 - s[i]\n",
    "        \n",
    "# compute probabilities\n",
    "def get_probs():\n",
    "    # 1. trasnpose\n",
    "    # 2. subtract Pi\n",
    "    # 3. add a row of P's\n",
    "    matrix = np.append((t_matrix.T - np.identity(n_states))[:-1], [np.ones(n_states)], axis=0)\n",
    "    \n",
    "    # targets\n",
    "    t = np.zeros(n_states)\n",
    "    t[-1] = 1\n",
    "    \n",
    "    # solve\n",
    "    probs = np.linalg.solve(matrix, t)\n",
    "    \n",
    "    return probs\n",
    "\n",
    "# compute network overall reliability\n",
    "def get_status(probs):\n",
    "    print(probs)\n",
    "    prob_good = np.sum(probs[ok_states])\n",
    "    prob_bad = 1 - prob_good\n",
    "    \n",
    "    print(\"\\nOK:\" , prob_good)"
   ]
  },
  {
   "cell_type": "code",
   "execution_count": 32,
   "metadata": {},
   "outputs": [],
   "source": [
    "# START Transitions\n",
    "\n",
    "# read line by line\n",
    "for line in f:\n",
    "    if line != '\\n':\n",
    "        t_info = line.split()\n",
    "        # parse transition info \n",
    "        add_transition(int(t_info[0]), int(t_info[1]), float(t_info[2]))\n",
    "\n",
    "# END Transitions"
   ]
  },
  {
   "cell_type": "code",
   "execution_count": 33,
   "metadata": {},
   "outputs": [
    {
     "name": "stdout",
     "output_type": "stream",
     "text": [
      "[ 0.1296  0.1728  0.1728  0.0576  0.2304  0.0576  0.0768  0.0768  0.0256]\n",
      "\n",
      "OK: 0.5904\n"
     ]
    }
   ],
   "source": [
    "# compute and get overall result\n",
    "\n",
    "add_stall()\n",
    "\n",
    "probs = get_probs()\n",
    "\n",
    "get_status(probs)"
   ]
  }
 ],
 "metadata": {
  "kernelspec": {
   "display_name": "Python 3",
   "language": "python",
   "name": "python3"
  },
  "language_info": {
   "codemirror_mode": {
    "name": "ipython",
    "version": 3
   },
   "file_extension": ".py",
   "mimetype": "text/x-python",
   "name": "python",
   "nbconvert_exporter": "python",
   "pygments_lexer": "ipython3",
   "version": "3.6.1"
  }
 },
 "nbformat": 4,
 "nbformat_minor": 2
}
